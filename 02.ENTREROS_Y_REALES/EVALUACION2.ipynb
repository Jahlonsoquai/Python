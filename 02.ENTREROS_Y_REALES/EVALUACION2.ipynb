{
  "nbformat": 4,
  "nbformat_minor": 0,
  "metadata": {
    "colab": {
      "name": "EVALUACION2.ipynb",
      "provenance": []
    },
    "kernelspec": {
      "name": "python3",
      "display_name": "Python 3"
    },
    "language_info": {
      "name": "python"
    }
  },
  "cells": [
    {
      "cell_type": "markdown",
      "source": [
        "# Práctica 2. \n",
        "6 puntos\n",
        "\n",
        "### 2 Práctica  Números enteros y reales.\n",
        "\n",
        "Realiza los ejercicios de acuerdo a las indicaciones\n",
        "\n",
        "2.1 Ejercicio 1 (1.5 puntos)\n",
        "\n",
        "Escribir un programa que convierta un valor dado en grados Fahrenheit a grados Celsius."
      ],
      "metadata": {
        "id": "sZwziQp3dWqo"
      }
    },
    {
      "cell_type": "code",
      "source": [
        "#TÚ CÓDIGO AQUÍ\n",
        "temp_grados = float(input('Ingresa la temperatura en grados F° '))\n",
        "print('La temperatura dada en grados Farenheit ',temp_grados,\" convertida a grados Celsius es de \",(temp_grados-32)/(9/5))"
      ],
      "metadata": {
        "id": "ATUeLXAvdKdP",
        "outputId": "c19ed05a-bce9-418c-f1c1-577e6f4cb9f7",
        "colab": {
          "base_uri": "https://localhost:8080/"
        }
      },
      "execution_count": 3,
      "outputs": [
        {
          "output_type": "stream",
          "name": "stdout",
          "text": [
            "Ingresa la temperatura en grados F° 33.89\n",
            "La temperatura dada en grados Farenheit  33.89  convertida a grados Celsius es de  1.0500000000000003\n"
          ]
        }
      ]
    },
    {
      "cell_type": "markdown",
      "source": [
        "2.2 Ejercicio 2 (1.5 puntos)\n",
        "\n",
        "Dados dos números, mostrar la suma, resta, división y multiplicación de ambos.\n",
        "\n"
      ],
      "metadata": {
        "id": "8ubdyEbEdMeW"
      }
    },
    {
      "cell_type": "code",
      "source": [
        "#Tú código aquí\n",
        "print(\"Calculadora EdeC\")\n",
        "num1=float(input('¡Ingresa un número! '))\n",
        "num2=float(input('¡Ingresa otro número! '))\n",
        "print(\"La suma es:\",num1+num2, \"La resta es:\",num1-num2,\"La multiplicación es:\",num1*num2,\"La división es:\",num1/num2)"
      ],
      "metadata": {
        "id": "XQEFFzmSdPCH",
        "outputId": "15e2387f-2ead-4229-e36c-3dc7cedd2df3",
        "colab": {
          "base_uri": "https://localhost:8080/"
        }
      },
      "execution_count": 9,
      "outputs": [
        {
          "output_type": "stream",
          "name": "stdout",
          "text": [
            "Calculadora EdeC\n",
            "¡Ingresa un número! 86.7\n",
            "¡Ingresa otro número! 95.5\n",
            "La suma es: 182.2 La resta es: -8.799999999999997 La multiplicación es: 8279.85 La división es: 0.9078534031413613\n"
          ]
        }
      ]
    },
    {
      "cell_type": "markdown",
      "source": [
        "2.3 Ejercicio 3 (1.5 puntos)\n",
        "\n",
        "Calcular el perímetro y área de un rectángulo dada su base y su altura. Respuesta:"
      ],
      "metadata": {
        "id": "cVDihbpZdRa6"
      }
    },
    {
      "cell_type": "code",
      "source": [
        "#Tú código aquí\n",
        "print(\"Perímetro\")\n",
        "B=int(input(\"¿Cuánto mide la base del rectángulo? \"))\n",
        "A=int(input(\"¿Cuánto mide la altura del rectángulo? \"))\n",
        "perimetro=2*B+2*A\n",
        "área=(B*A)\n",
        "print(\"El perímetro es:\",perimetro, \"y el área es:\",área)"
      ],
      "metadata": {
        "id": "MJ849GWadSGN",
        "outputId": "9c6484bb-85c6-4427-8236-f3906c941837",
        "colab": {
          "base_uri": "https://localhost:8080/"
        }
      },
      "execution_count": 12,
      "outputs": [
        {
          "output_type": "stream",
          "name": "stdout",
          "text": [
            "Perímetro\n",
            "¿Cuánto mide la base del rectángulo? 2\n",
            "¿Cuánto mide la altura del rectángulo? 3\n",
            "El perímetro es: 10 y el área es: 6\n"
          ]
        }
      ]
    }
  ]
}
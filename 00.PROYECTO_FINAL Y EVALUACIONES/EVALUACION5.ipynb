{
  "nbformat": 4,
  "nbformat_minor": 0,
  "metadata": {
    "colab": {
      "name": "EVALUACION5.ipynb",
      "provenance": [],
      "collapsed_sections": [],
      "include_colab_link": true
    },
    "kernelspec": {
      "name": "python3",
      "display_name": "Python 3"
    },
    "language_info": {
      "name": "python"
    }
  },
  "cells": [
    {
      "cell_type": "markdown",
      "metadata": {
        "id": "view-in-github",
        "colab_type": "text"
      },
      "source": [
        "<a href=\"https://colab.research.google.com/github/Jahlonsoquai/Python/blob/main/00.PROYECTO_FINAL%20Y%20EVALUACIONES/EVALUACION5.ipynb\" target=\"_parent\"><img src=\"https://colab.research.google.com/assets/colab-badge.svg\" alt=\"Open In Colab\"/></a>"
      ]
    },
    {
      "cell_type": "markdown",
      "source": [
        "#5 Práctica 5. \n",
        "Operadores relacionales. (6 puntos)\n",
        "\n",
        "## 5.1 Ejercicio 1 (2 puntos)\n",
        "Programa que imprima si el número es positivo o negativo, el número debe ser ingresado por consola.\n",
        "\n"
      ],
      "metadata": {
        "id": "r7beNH5cW9_x"
      }
    },
    {
      "cell_type": "code",
      "source": [
        "#Tu codigo aqui\n",
        "\n",
        "num=float(input(\"Ingresa cualquier número real: \"))\n",
        "if num > 0:\n",
        "  print(\"El número ingresado es positivo\")\n",
        "else:\n",
        "  print(\"El número ingresado es negativo\")\n",
        "\n"
      ],
      "metadata": {
        "id": "bZVUL37GXES5",
        "outputId": "381c09ea-ae95-421e-d463-43d149be8486",
        "colab": {
          "base_uri": "https://localhost:8080/"
        }
      },
      "execution_count": null,
      "outputs": [
        {
          "output_type": "stream",
          "name": "stdout",
          "text": [
            "Ingresa cualquier número real: 5\n",
            "El número ingresado es positivo\n"
          ]
        }
      ]
    },
    {
      "cell_type": "markdown",
      "source": [
        "## 5.2 Ejercicio 2 (2 puntos)\n",
        "Programa que imprima si el número ingresado esta en el rango de 1 a 7, el número se solicita por consola.\n",
        "\n"
      ],
      "metadata": {
        "id": "HCdfkizhXH84"
      }
    },
    {
      "cell_type": "code",
      "execution_count": null,
      "metadata": {
        "id": "-gwRlEcsW8t9",
        "colab": {
          "base_uri": "https://localhost:8080/"
        },
        "outputId": "7f7f67bb-7771-4c58-8808-cdb26d4b57e4"
      },
      "outputs": [
        {
          "output_type": "stream",
          "name": "stdout",
          "text": [
            "Ingresa un número 6\n",
            "6 esta dentro del rango\n"
          ]
        }
      ],
      "source": [
        "#Tu codigo aqui\n",
        "numero=(int(input(\"Ingresa un número \")))\n",
        "if numero>=1 and numero<=7:\n",
        "  print(numero, \"esta dentro del rango\")\n",
        "else:\n",
        "  print(\"Fuera del rango\")\n"
      ]
    },
    {
      "cell_type": "markdown",
      "source": [
        "## 5.3 Ejercicio 3 (2 puntos)\n",
        "Programa que solicite un monto y que solicite el interés mensual, si el interés es mayor al 30% nos imprimirá que es incorrecto, si es menor realizará el cálculo e imprimira el monto con su interés adicionado."
      ],
      "metadata": {
        "id": "MfOTeEoPXMPg"
      }
    },
    {
      "cell_type": "code",
      "source": [
        "#Tu codigo aqui\n",
        "monto=float(input(\"Ingresa el monto a pagar: \"))\n",
        "interes=float(input(\"Ingresa la tasa de interes de financiación: \"))\n",
        "if interes<30:\n",
        "  Tasa=interes/100\n",
        "  montoTotal=monto+(monto*Tasa)\n",
        "  print(montoTotal)\n",
        "else:\n",
        "  print(\"Tasa de Interés incorrecta\")"
      ],
      "metadata": {
        "id": "vK-sijxOXN_I",
        "colab": {
          "base_uri": "https://localhost:8080/"
        },
        "outputId": "6687b359-f321-4c63-9bee-5acbe333b121"
      },
      "execution_count": null,
      "outputs": [
        {
          "output_type": "stream",
          "name": "stdout",
          "text": [
            "Ingresa el monto a pagar: 890\n",
            "Ingresa la tasa de interes de financiación: 16\n",
            "1032.4\n"
          ]
        }
      ]
    }
  ]
}
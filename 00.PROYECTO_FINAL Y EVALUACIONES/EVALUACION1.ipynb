{
  "nbformat": 4,
  "nbformat_minor": 0,
  "metadata": {
    "colab": {
      "name": "EVALUACION1.ipynb",
      "provenance": [],
      "collapsed_sections": [],
      "include_colab_link": true
    },
    "kernelspec": {
      "name": "python3",
      "display_name": "Python 3"
    },
    "language_info": {
      "name": "python"
    }
  },
  "cells": [
    {
      "cell_type": "markdown",
      "metadata": {
        "id": "view-in-github",
        "colab_type": "text"
      },
      "source": [
        "<a href=\"https://colab.research.google.com/github/Jahlonsoquai/Python/blob/main/00.PROYECTO_FINAL%20Y%20EVALUACIONES/EVALUACION1.ipynb\" target=\"_parent\"><img src=\"https://colab.research.google.com/assets/colab-badge.svg\" alt=\"Open In Colab\"/></a>"
      ]
    },
    {
      "cell_type": "markdown",
      "source": [
        "# Práctica 1. \n",
        "6 puntos\n",
        "\n",
        "1 Práctica 1: Conociendo Python.\n",
        "\n",
        "Objetivo: Identificar el nivel de comprensión de los conceptos mediante preguntas abiertas.\n",
        "\n",
        "Responder las siguientes preguntas:\n",
        "\n"
      ],
      "metadata": {
        "id": "j1eqhlwTACMT"
      }
    },
    {
      "cell_type": "markdown",
      "source": [
        "\n",
        "1.1 ¿Qué es python? (2 puntos)\n",
        "\n",
        "\n",
        "> Es un lenguaje de programación de alto nivel, un  lenguaje interpretado, que va ejecutando línea por línea o un segmento de código escrito. no es necesario compilarlo. Es fuertemente tipado, las variables deben ser del mismo tipo para poder realizar acciones u operaciones entre ellas. Es multiplataforma y también es un lenguaje orientado a objetos.\n",
        "\n",
        "\n",
        "1.2 ¿Es multiplataforma en que sistemas operativos funciona ? (2 puntos)\n",
        "\n",
        "> Es un lenguaje que se ejecuta en la gran mayoría de sistemas operativos, al menos en los más usados, como WINDOWS, LINUX, MAC/OS, UNIX, ETC. Y se deben utilizar líbrerias específicas de las diferentes plataformas.\n",
        "\n",
        "\n"
      ],
      "metadata": {
        "id": "8rolc7oNANvo"
      }
    },
    {
      "cell_type": "markdown",
      "source": [
        "1.3 Ejercicio 1 (2 puntos) Escribir un programa que pregunte al usuario su nombre, y luego lo salude."
      ],
      "metadata": {
        "id": "t4I2KxiZ8G44"
      }
    },
    {
      "cell_type": "code",
      "source": [
        "#Tú código aquí.\n",
        "Nombre=str(input(\"¿Cuál es tu nombre? \"))\n",
        "print(f'¡Hola mucho gusto {Nombre}!')"
      ],
      "metadata": {
        "id": "OpcH1h40AXRD"
      },
      "execution_count": null,
      "outputs": []
    }
  ]
}
{
  "nbformat": 4,
  "nbformat_minor": 0,
  "metadata": {
    "colab": {
      "name": "EVALUACION6.ipynb",
      "provenance": [],
      "collapsed_sections": [],
      "include_colab_link": true
    },
    "kernelspec": {
      "name": "python3",
      "display_name": "Python 3"
    },
    "language_info": {
      "name": "python"
    }
  },
  "cells": [
    {
      "cell_type": "markdown",
      "metadata": {
        "id": "view-in-github",
        "colab_type": "text"
      },
      "source": [
        "<a href=\"https://colab.research.google.com/github/Jahlonsoquai/Python/blob/main/00.PROYECTO_FINAL%20Y%20EVALUACIONES/EVALUACION6.ipynb\" target=\"_parent\"><img src=\"https://colab.research.google.com/assets/colab-badge.svg\" alt=\"Open In Colab\"/></a>"
      ]
    },
    {
      "cell_type": "markdown",
      "source": [
        "# 6 Práctica\n",
        "Sentencias condicionales. (6 puntos)\n",
        "\n",
        "## Ejercicio 1 (1.5 puntos)\n",
        "Realizar un ejemplo de menú, donde podemos escoger las distintas opciones hasta que seleccionamos la opción de “Salir”.\n",
        "\n",
        "Menú de recomendaciones\n",
        "\n",
        "* Literatura\n",
        "* Cine\n",
        "* Música\n",
        "* Videojuegos\n",
        "* Salir\n",
        "\n",
        "Al ingresar una opcion\n",
        "\n",
        "opcion 1:\n",
        "\n",
        "Lecturas recomendables:\n",
        "\n",
        "* Esperándolo a Tito y otros cuentos de fútbol (Eduardo Sacheri)\n",
        "* El juego de Ender (Orson Scott Card)\n",
        "* El sueño de los héroes (Adolfo Bioy Casares)\n",
        "\n",
        "opcion 2:\n",
        "\n",
        "Películas recomendables:\n",
        "\n",
        "* Matrix (1999)\n",
        "* El último samuray (2003)\n",
        "* Cars (2006)\n",
        "\n",
        "opcion 3:\n",
        "\n",
        "Discos recomendables:\n",
        "\n",
        "* Despedazado por mil partes (La Renga, 1996)\n",
        "* Búfalo (La Mississippi, 2008)\n",
        "* Gaia (Mago de Oz, 2003)\n",
        "\n",
        "opcion 4:\n",
        "\n",
        "* Videojuegos clásicos recomendables\n",
        "* Día del tentáculo (LucasArts, 1993)\n",
        "* Terminal Velocity (Terminal Reality/3D Realms, 1995)\n",
        "* Death Rally (Remedy/Apogee, 1996)\n",
        "\n",
        "opcion 5:\n",
        "\n",
        "Gracias, vuelva prontos\n",
        "\n",
        "Opción no válida, en caso de ingresar un número fuera de las opciones\n",
        "\n"
      ],
      "metadata": {
        "id": "uvxPhEvyOpzM"
      }
    },
    {
      "cell_type": "code",
      "source": [
        "# Aquí tu código:\n",
        "\n",
        "print('''>OPCIONES:\n",
        "1.- Literatura\n",
        "2.- Cine\n",
        "3.- Música\n",
        "4.- Videojuegos\n",
        "5.- SALIR\n",
        "''')\n",
        "opcion = int(input('ESCOGE UNA OPCIÓN:\\n'))\n",
        "\n",
        "while opcion != 5:\n",
        "\n",
        "  if opcion == 1:\n",
        "    print('\\nLecturas Recomendables:')\n",
        "    literatura = f'    ¬Esperándolo a Tito y otros cuentos de fútbol (Eduardo Sacheri)\\n    ¬El juego de Ender (Orson Scott Card)\\n    ¬El sueño de los héroes (Adolfo Bioy Casares)\\n'\n",
        "    print(literatura)\n",
        "    opcion = int(input('ESCOGE UNA OPCIÓN:\\n'))  \n",
        "    \n",
        "  elif opcion == 2:\n",
        "    print('\\nPelículas recomendables:')\n",
        "    cine =f'    ¬Matrix (1999)\\n    ¬El último samuray (2003)\\n    ¬Cars (2006)\\n'\n",
        "    print(cine)\n",
        "    opcion = int(input('ESCOGE UNA OPCIÓN:\\n'))\n",
        "\n",
        "  elif opcion == 3:\n",
        "    print('\\nDiscos recomendables:')\n",
        "    musica =f'    ¬Despedazado por mil partes (La Renga, 1996)\\n    ¬Búfalo (La Mississippi, 2008)\\n    ¬Gaia (Mago de Oz, 2003)\\n'\n",
        "    print(musica)\n",
        "    opcion = int(input('ESCOGE UNA OPCIÓN:\\n'))\n",
        "   \n",
        "  elif opcion == 4:\n",
        "    print('\\nVideojuegos clásicos recomendables:')\n",
        "    videogames =f'    ¬Día del tentáculo (LucasArts, 1993)\\n    ¬Terminal Velocity (Terminal Reality/3D Realms, 1995)\\n    ¬Death Rally (Remedy/Apogee, 1996)\\n'\n",
        "    print(videogames)\n",
        "    opcion = int(input('ESCOGE UNA OPCIÓN:\\n'))\n",
        "              \n",
        "  else:\n",
        "    print(\"No está en el menú de opciones\\n\")\n",
        "    opcion = int(input('ESCOGE UNA OPCIÓN:\\n'))\n",
        "\n",
        "print('''\\n¡GRACIAS!\n",
        "¡VUELVA PRONTO!''')    \n",
        "\n"
      ],
      "metadata": {
        "id": "a8uvakq8DnUD"
      },
      "execution_count": null,
      "outputs": []
    },
    {
      "cell_type": "markdown",
      "source": [
        "## Ejercicio 2 (1.5 puntos)\n",
        "Se pide por teclado un número y nos imprime los números primos que hay previos a este número.\n",
        "\n",
        "Ejemplo: si ingresamos el 10 nos imprima del 1 a ese 10 cuales números son primos.\n"
      ],
      "metadata": {
        "id": "hwpI5TwUPMNa"
      }
    },
    {
      "cell_type": "code",
      "source": [
        "#Tu código aquí:\n",
        "\n",
        "while True:\n",
        "  numero = int(input(\"Ingresa un número entero positivo sin incluir al 1.\\nPara saber los números primos previos a él:\\n\"))\n",
        "  if numero>1: \n",
        "    for num in range(2,numero+1):\n",
        "      divisor = 2\n",
        "      numPrimo = True\n",
        "      while numPrimo and divisor<num:\n",
        "        if num%divisor == 0:\n",
        "          numPrimo = False\n",
        "        else:\n",
        "          divisor += 1\n",
        "      if numPrimo:\n",
        "        print(num, \" es primo\")\n",
        "    break\n",
        "  else:\n",
        "    print(\"Número no permitido, intente con otro número\\n\")\n",
        "  \n",
        "  \n",
        "    "
      ],
      "metadata": {
        "colab": {
          "base_uri": "https://localhost:8080/"
        },
        "id": "EdsjU6-o4m2s",
        "outputId": "a17289ff-42ee-498d-995b-5b8593a726ec"
      },
      "execution_count": null,
      "outputs": [
        {
          "output_type": "stream",
          "name": "stdout",
          "text": [
            "Ingresa un número entero positivo sin incluir al 1.\n",
            "Para saber los números primos previos a él:\n",
            "-1\n",
            "Número no permitido, intente con otro número\n",
            "\n",
            "Ingresa un número entero positivo sin incluir al 1.\n",
            "Para saber los números primos previos a él:\n",
            "9\n",
            "2  es primo\n",
            "3  es primo\n",
            "5  es primo\n",
            "7  es primo\n"
          ]
        }
      ]
    },
    {
      "cell_type": "markdown",
      "source": [
        "\n",
        "## Ejercicio 3 (1.5 puntos)\n",
        "Una persona adquirió un producto para pagar en 20 meses. El primer mes pagó 10 €, el segundo 20 €, el tercero 40 € y así sucesivamente. Realizar un algoritmo para determinar cuánto debe pagar mensualmente y el total de lo que pagó después de los 20 meses.\n",
        "\n",
        "Al finalizar los 20 meses pago en total:\n",
        "\n",
        "primer mes pago 10, segundo mes pago 20, tercer mes pago 30, cuarto mes pago 40, etc."
      ],
      "metadata": {
        "id": "OFocRk5oPSqp"
      }
    },
    {
      "cell_type": "code",
      "source": [
        "#Tu código aquí:\n",
        "\n",
        "total = 0\n",
        "\n",
        "for mes in range (1, 21):\n",
        "  \n",
        "  if mes==1:\n",
        "    pago=10\n",
        "    \n",
        "  else:\n",
        "    pago=pago*2\n",
        "  total=total+pago\n",
        "  print (\"El pago del mes %i es: %i€\" %(mes,pago),\"\\r\\n\")\n",
        "    \n",
        "print (\"%i€, es el monto total de los pagos hechos.\" %total)"
      ],
      "metadata": {
        "id": "rOu5kERomYaU"
      },
      "execution_count": null,
      "outputs": []
    }
  ]
}
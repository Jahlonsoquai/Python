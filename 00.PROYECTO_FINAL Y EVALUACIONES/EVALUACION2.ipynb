{
  "nbformat": 4,
  "nbformat_minor": 0,
  "metadata": {
    "colab": {
      "name": "EVALUACION2.ipynb",
      "provenance": [],
      "collapsed_sections": [],
      "include_colab_link": true
    },
    "kernelspec": {
      "name": "python3",
      "display_name": "Python 3"
    },
    "language_info": {
      "name": "python"
    }
  },
  "cells": [
    {
      "cell_type": "markdown",
      "metadata": {
        "id": "view-in-github",
        "colab_type": "text"
      },
      "source": [
        "<a href=\"https://colab.research.google.com/github/Jahlonsoquai/Python/blob/main/00.PROYECTO_FINAL%20Y%20EVALUACIONES/EVALUACION2.ipynb\" target=\"_parent\"><img src=\"https://colab.research.google.com/assets/colab-badge.svg\" alt=\"Open In Colab\"/></a>"
      ]
    },
    {
      "cell_type": "markdown",
      "source": [
        "# Práctica 2. \n",
        "6 puntos\n",
        "\n",
        "### 2 Práctica  Números enteros y reales.\n",
        "\n",
        "Realiza los ejercicios de acuerdo a las indicaciones\n",
        "\n",
        "2.1 Ejercicio 1 (1.5 puntos)\n",
        "\n",
        "Escribir un programa que convierta un valor dado en grados Fahrenheit a grados Celsius."
      ],
      "metadata": {
        "id": "sZwziQp3dWqo"
      }
    },
    {
      "cell_type": "code",
      "source": [
        "#TU CÓDIGO AQUÍ\n",
        "temp_grados = float(input('Ingresa la temperatura en grados F°: '))\n",
        "print('La temperatura dada en grados F°:',temp_grados,\"\\nConvertida a grados C° es de:\",(temp_grados-32)/(9/5))"
      ],
      "metadata": {
        "id": "ATUeLXAvdKdP"
      },
      "execution_count": null,
      "outputs": []
    },
    {
      "cell_type": "markdown",
      "source": [
        "2.2 Ejercicio 2 (1.5 puntos)\n",
        "\n",
        "Dados dos números, mostrar la suma, resta, división y multiplicación de ambos.\n",
        "\n"
      ],
      "metadata": {
        "id": "8ubdyEbEdMeW"
      }
    },
    {
      "cell_type": "code",
      "source": [
        "#Tu código aquí\n",
        "print(\"Calculadora EdeC\\n\")\n",
        "num1=float(input('¡Ingresa un número!\\n'))\n",
        "num2=float(input('¡Ingresa otro número!\\n'))\n",
        "print(f'''\n",
        "  La suma es: {num1+num2}\n",
        "  La resta es: {num1-num2}\n",
        "  La multiplicación es: {num1*num2}\n",
        "  La división es: {num1/num2}''')"
      ],
      "metadata": {
        "id": "XQEFFzmSdPCH"
      },
      "execution_count": null,
      "outputs": []
    },
    {
      "cell_type": "markdown",
      "source": [
        "2.3 Ejercicio 3 (1.5 puntos)\n",
        "\n",
        "Calcular el perímetro y área de un rectángulo dada su base y su altura. Respuesta:"
      ],
      "metadata": {
        "id": "cVDihbpZdRa6"
      }
    },
    {
      "cell_type": "code",
      "source": [
        "#Tu código aquí\n",
        "print(\"Perímetro y Área de un Rectángulo\\n\")\n",
        "B=float(input(\"¿Cuánto mide la base del rectángulo?\\n \"))\n",
        "A=float(input(\"¿Cuánto mide la altura del rectángulo?\\n \"))\n",
        "perimetro=(2*B)+(2*A)\n",
        "área=B*A\n",
        "print(\"El perímetro es de:\",perimetro, \"\\nEl área es de:\",área)"
      ],
      "metadata": {
        "id": "MJ849GWadSGN"
      },
      "execution_count": null,
      "outputs": []
    }
  ]
}
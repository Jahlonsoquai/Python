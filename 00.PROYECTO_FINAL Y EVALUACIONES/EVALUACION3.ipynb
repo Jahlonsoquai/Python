{
  "nbformat": 4,
  "nbformat_minor": 0,
  "metadata": {
    "colab": {
      "name": "EVALUACION3.ipynb",
      "provenance": [],
      "collapsed_sections": [],
      "authorship_tag": "ABX9TyMRZ++Sk4wIRloisVj5DTvx",
      "include_colab_link": true
    },
    "kernelspec": {
      "name": "python3",
      "display_name": "Python 3"
    },
    "language_info": {
      "name": "python"
    }
  },
  "cells": [
    {
      "cell_type": "markdown",
      "metadata": {
        "id": "view-in-github",
        "colab_type": "text"
      },
      "source": [
        "<a href=\"https://colab.research.google.com/github/Jahlonsoquai/Python/blob/main/00.PROYECTO_FINAL%20Y%20EVALUACIONES/EVALUACION3.ipynb\" target=\"_parent\"><img src=\"https://colab.research.google.com/assets/colab-badge.svg\" alt=\"Open In Colab\"/></a>"
      ]
    },
    {
      "cell_type": "markdown",
      "source": [
        "### Práctica 3. \n",
        "6 puntos\n",
        "### 3 Práctica Operadores aritméticos.\n",
        "\n",
        "Las siguientes simplificaciones realizalas considerando la gerarquía de los operadores."
      ],
      "metadata": {
        "id": "yDinxLe8hRFc"
      }
    },
    {
      "cell_type": "markdown",
      "source": [
        "3.1 Ejercicio 1(2 puntos)\n",
        "\n",
        "Simplifica la expresión 5+{{(3+1)}^2}."
      ],
      "metadata": {
        "id": "SuB6xC_Thtvq"
      }
    },
    {
      "cell_type": "code",
      "execution_count": null,
      "metadata": {
        "colab": {
          "base_uri": "https://localhost:8080/"
        },
        "id": "svbC079UhM8K",
        "outputId": "cfe52220-5834-41c2-f8dd-1519ef103528"
      },
      "outputs": [
        {
          "output_type": "stream",
          "name": "stdout",
          "text": [
            "La operación 5+((3+1)^2) = 21\n"
          ]
        }
      ],
      "source": [
        "simplificar = 5+((3+1)**2)\n",
        "print(\"La operación 5+((3+1)^2) =\",simplificar)"
      ]
    },
    {
      "cell_type": "markdown",
      "source": [
        "3.2 Ejercicio 2 (2 puntos)\n",
        "\n",
        "Simplifica la expresión 12-2{{(6-3)}^2}\\div 3."
      ],
      "metadata": {
        "id": "zqbm__EhhvmZ"
      }
    },
    {
      "cell_type": "code",
      "source": [
        "simplificando1 = 12-(2*(6-3)**2)/3\n",
        "print(\"La operación 12-(2*(6-3)**2)/3 =\",simplificando1)"
      ],
      "metadata": {
        "colab": {
          "base_uri": "https://localhost:8080/"
        },
        "id": "1uUtBmJNh0mc",
        "outputId": "9f6ef175-f37e-444c-b274-344846138219"
      },
      "execution_count": null,
      "outputs": [
        {
          "output_type": "stream",
          "name": "stdout",
          "text": [
            "La operación 12-(2*(6-3)**2)/3 = 6.0\n"
          ]
        }
      ]
    },
    {
      "cell_type": "markdown",
      "source": [
        "3.3 Ejercicio 3 (2 puntos)\n",
        "\n",
        "Simplifica la expresión 12x+4[6-(3x+2)]."
      ],
      "metadata": {
        "id": "s5idlmvqhysV"
      }
    },
    {
      "cell_type": "code",
      "source": [
        "x = int(input(\"Dale un valor a x: \"))\n",
        "simplificando2 = 12*x+4*(6-(3*x+2))\n",
        "print(\"La operación 12*x+4*(6-(3*x+2)) =\",simplificando2)"
      ],
      "metadata": {
        "colab": {
          "base_uri": "https://localhost:8080/"
        },
        "id": "LSS7-QDAh16A",
        "outputId": "657718bf-b1bd-4dac-edc5-bdbe668970c6"
      },
      "execution_count": null,
      "outputs": [
        {
          "output_type": "stream",
          "name": "stdout",
          "text": [
            "Dale un valor a x: 8\n",
            "La operación 12*x+4*(6-(3*x+2)) = 16\n"
          ]
        }
      ]
    }
  ]
}
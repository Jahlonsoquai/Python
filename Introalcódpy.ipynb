{
  "nbformat": 4,
  "nbformat_minor": 0,
  "metadata": {
    "colab": {
      "name": "Introalcódpy.ipynb",
      "provenance": [],
      "authorship_tag": "ABX9TyNjgNftEn0WbuKSWnA6JZj6",
      "include_colab_link": true
    },
    "kernelspec": {
      "name": "python3",
      "display_name": "Python 3"
    },
    "language_info": {
      "name": "python"
    }
  },
  "cells": [
    {
      "cell_type": "markdown",
      "metadata": {
        "id": "view-in-github",
        "colab_type": "text"
      },
      "source": [
        "<a href=\"https://colab.research.google.com/github/Jahlonsoquai/Python/blob/main/Introalc%C3%B3dpy.ipynb\" target=\"_parent\"><img src=\"https://colab.research.google.com/assets/colab-badge.svg\" alt=\"Open In Colab\"/></a>"
      ]
    },
    {
      "cell_type": "code",
      "source": [
        "var1=int(input(\"ingresa un número \"))\n",
        "var2=float(input(\"ingresa otro número \"))\n",
        "print(\"suma\",var1+var2,\"resta\",var1-var2,\"multiplicación\",var1*var2,\"división\",var1/var2)\n"
      ],
      "metadata": {
        "colab": {
          "base_uri": "https://localhost:8080/"
        },
        "id": "UPP7njc651BP",
        "outputId": "6214914c-17cb-437e-bdd6-f9406736dfbb"
      },
      "execution_count": 17,
      "outputs": [
        {
          "output_type": "stream",
          "name": "stdout",
          "text": [
            "ingresa un número 6\n",
            "ingresa otro número 3.5\n",
            "suma 9.5 resta 2.5 multiplicación 21.0 división 1.7142857142857142\n"
          ]
        }
      ]
    },
    {
      "cell_type": "code",
      "source": [
        ""
      ],
      "metadata": {
        "id": "7MV70mzS8SI5"
      },
      "execution_count": null,
      "outputs": []
    }
  ]
}
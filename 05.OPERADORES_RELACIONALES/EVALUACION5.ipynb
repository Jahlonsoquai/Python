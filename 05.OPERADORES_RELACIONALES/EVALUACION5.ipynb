{
  "nbformat": 4,
  "nbformat_minor": 0,
  "metadata": {
    "colab": {
      "name": "EVALUACION5.ipynb",
      "provenance": [],
      "include_colab_link": true
    },
    "kernelspec": {
      "name": "python3",
      "display_name": "Python 3"
    },
    "language_info": {
      "name": "python"
    }
  },
  "cells": [
    {
      "cell_type": "markdown",
      "metadata": {
        "id": "view-in-github",
        "colab_type": "text"
      },
      "source": [
        "<a href=\"https://colab.research.google.com/github/Jahlonsoquai/Python/blob/main/05.OPERADORES_RELACIONALES/EVALUACION5.ipynb\" target=\"_parent\"><img src=\"https://colab.research.google.com/assets/colab-badge.svg\" alt=\"Open In Colab\"/></a>"
      ]
    },
    {
      "cell_type": "markdown",
      "source": [
        "#5 Práctica 5. \n",
        "Operadores relacionales. (6 puntos)\n",
        "\n",
        "## 5.1 Ejercicio 1 (2 puntos)\n",
        "Programa que imprima si el número es positivo o negativo, el número debe ser ingresado por consola.\n",
        "\n"
      ],
      "metadata": {
        "id": "r7beNH5cW9_x"
      }
    },
    {
      "cell_type": "code",
      "source": [
        "#Tu codigo aqui\n",
        "num=float(input(\"Ingresa cualquier número real: \"))\n",
        "if num > 0:\n",
        "  print(\"El número ingresado es positivo\")\n",
        "else:\n",
        "  print(\"El número ingresado es negativo\")\n"
      ],
      "metadata": {
        "id": "bZVUL37GXES5",
        "outputId": "563b4b31-50c9-4a7f-9590-ef23ba19b27f",
        "colab": {
          "base_uri": "https://localhost:8080/"
        }
      },
      "execution_count": 1,
      "outputs": [
        {
          "output_type": "stream",
          "name": "stdout",
          "text": [
            "Ingresa cualquier número real: 6\n",
            "El número ingresado es positivo\n"
          ]
        }
      ]
    },
    {
      "cell_type": "markdown",
      "source": [
        "## 5.2 Ejercicio 2 (2 puntos)\n",
        "Programa que imprima si el número ingresado esta en el rango de 1 a 7, el número se solicita por consola.\n",
        "\n"
      ],
      "metadata": {
        "id": "HCdfkizhXH84"
      }
    },
    {
      "cell_type": "code",
      "execution_count": 3,
      "metadata": {
        "id": "-gwRlEcsW8t9",
        "outputId": "86bab144-5d1f-4a02-aee9-d613314577e2",
        "colab": {
          "base_uri": "https://localhost:8080/"
        }
      },
      "outputs": [
        {
          "output_type": "stream",
          "name": "stdout",
          "text": [
            "Ingresa un número 9\n",
            "Fuera del rango\n"
          ]
        }
      ],
      "source": [
        "#Tu codigo aqui\n",
        "numero=(int(input(\"Ingresa un número \")))\n",
        "if numero>=1 and numero<=7:\n",
        "  print(numero, \"está dentro del rango\")\n",
        "else:\n",
        "  print(\"Fuera del rango\")"
      ]
    },
    {
      "cell_type": "markdown",
      "source": [
        "## 5.3 Ejercicio 3 (2 puntos)\n",
        "Programa que solicite un monto y que solicite el interés mensual, si el interés es mayor al 30% nos imprimirá que es incorrecto, si es menor realizará el cálculo e imprimira el monto con su interés adicionado."
      ],
      "metadata": {
        "id": "MfOTeEoPXMPg"
      }
    },
    {
      "cell_type": "code",
      "source": [
        "#Tu codigo aqui\n",
        "monto=float(input(\"Ingresa el monto a pagar: \"))\n",
        "interes=float(input(\"Ingresa la tasa de interes de financiación: \"))\n",
        "if interes<=30:\n",
        "  Tasa=interes/100\n",
        "  montoTotal=monto+(monto*Tasa)\n",
        "  print(montoTotal)\n",
        "else:\n",
        "  print(\"Tasa de Interés incorrecta\")"
      ],
      "metadata": {
        "id": "vK-sijxOXN_I",
        "outputId": "c7dc6e78-8a9c-471c-acb8-ce95fdcb8eed",
        "colab": {
          "base_uri": "https://localhost:8080/"
        }
      },
      "execution_count": 5,
      "outputs": [
        {
          "output_type": "stream",
          "name": "stdout",
          "text": [
            "Ingresa el monto a pagar: 909000\n",
            "Ingresa la tasa de interes de financiación: 30\n",
            "1181700.0\n"
          ]
        }
      ]
    }
  ]
}
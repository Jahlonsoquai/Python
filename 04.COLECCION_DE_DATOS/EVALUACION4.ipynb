{
  "nbformat": 4,
  "nbformat_minor": 0,
  "metadata": {
    "colab": {
      "name": "Untitled5.ipynb",
      "provenance": [],
      "include_colab_link": true
    },
    "kernelspec": {
      "name": "python3",
      "display_name": "Python 3"
    },
    "language_info": {
      "name": "python"
    }
  },
  "cells": [
    {
      "cell_type": "markdown",
      "metadata": {
        "id": "view-in-github",
        "colab_type": "text"
      },
      "source": [
        "<a href=\"https://colab.research.google.com/github/Jahlonsoquai/Python/blob/main/04.COLECCION_DE_DATOS/EVALUACION4.ipynb\" target=\"_parent\"><img src=\"https://colab.research.google.com/assets/colab-badge.svg\" alt=\"Open In Colab\"/></a>"
      ]
    },
    {
      "cell_type": "markdown",
      "source": [
        "# Práctica 4. \n",
        "6 puntos\n",
        "\n",
        "Tipos de colección de datos.\n",
        "\n",
        "## 4.1 Ejercicio 1(1.2 puntos)\n",
        "Realizar un programa que inicialice una lista con 10 valores aleatorios (del 1 al 10) y posteriormente muestre en pantalla cada elemento de la lista junto con su cuadrado y su cubo. Respuesta:\n",
        "\n"
      ],
      "metadata": {
        "id": "5401D1bpSsU-"
      }
    },
    {
      "cell_type": "code",
      "execution_count": null,
      "metadata": {
        "id": "2evc8LMxSrwF"
      },
      "outputs": [],
      "source": [
        "# Tu código aqui\n",
        "import random\n",
        "listaNums = []\n",
        "for puesto in range(0,10):\n",
        "  listaNums.append(random.randint(1,10))\n",
        "  print(puesto)\n",
        "  print(listaNums)\n",
        "  \n",
        "for numero in listaNums:\n",
        "  print(numero,\" \",numero**2,\" \",numero**3)"
      ]
    },
    {
      "cell_type": "markdown",
      "source": [
        "## 4.2 Ejercicio 2 (1.2 puntos)\n",
        "Crea una lista e inicializarla con 5 cadenas de caracteres leídas por teclado. Copia los elementos de la lista en otra lista pero en orden inverso, y muestra sus elementos por la pantalla.\n",
        "\n"
      ],
      "metadata": {
        "id": "mYeAdvL-S2m4"
      }
    },
    {
      "cell_type": "code",
      "source": [
        "#Tu código aqui\n",
        "chainchars1 = [] \n",
        "chainchars2 = [] \n",
        "for i in range(1,6):\n",
        "  chainchars1.append(input(\"Escribe la palabra o frase número %d: \" %i))\n",
        "  chainchars2 = list(reversed(chainchars1))\n",
        "print(*chainchars2)"
      ],
      "metadata": {
        "id": "sW9gox1pS75K"
      },
      "execution_count": null,
      "outputs": []
    },
    {
      "cell_type": "markdown",
      "source": [
        "## 4.3 Ejercicio 3 (1.2 puntos)\n",
        "Se quiere realizar un programa que lea por teclado las 5 notas obtenidas por un alumno (comprendidas entre 0 y 10). A continuación debe mostrar todas las notas, la nota media, la nota más alta que ha sacado y la menor.\n",
        "\n"
      ],
      "metadata": {
        "id": "QWYc_eqVS96C"
      }
    },
    {
      "cell_type": "code",
      "source": [
        "#Tu codigo aqui\n",
        "def mPm(*args):\n",
        "  for nums in args:\n",
        "    mayor=max(args)\n",
        "    menor=min(args)\n",
        "    promedio=sum(args)/len(args)\n",
        "    return mayor,menor,promedio\n",
        "notas=[]   \n",
        "for elemento in range(1,6):\n",
        "  notas.append(int(input(\"Introduce la calificación %d del alumno: \" %elemento)))\n",
        "print(notas)\n",
        "print(f'La calificación más alta, la más baja y el promedio son {mPm(*notas)} respectivamente')"
      ],
      "metadata": {
        "id": "9NtUBQ3rTAlZ"
      },
      "execution_count": null,
      "outputs": []
    },
    {
      "cell_type": "markdown",
      "source": [
        "## 4.4 Ejercicio 4 (1.2 puntos)\n",
        "Codifica un programa en python que nos permita guardar los nombres de los alumnos de una clase y las notas que han obtenido. Cada alumno puede tener distinta cantidad de notas. Guarda la información en un diccionario cuya claves serán los nombres de los alumnos y los valores serán listados con las notas de cada alumno.\n",
        "\n",
        "El programa pedirá el número de alumnos que vamos a introducir, pedirá su nombre e irá pidiendo sus notas hasta que introduzcamos un número negativo. Al final el programa nos mostrará la lista de alumnos y la nota media obtenida por cada uno de ellos. Nota: si se introduce el nombre de un alumno que ya existe el programa nos dará un error.\n",
        "\n"
      ],
      "metadata": {
        "id": "0SZRy56KTC3q"
      }
    },
    {
      "cell_type": "code",
      "source": [
        "calificaciones = {}\n",
        "QdeAlumnos = int(input(\"¿Cuántos alumnos hay en lista:\\n\"))\n",
        "\n",
        "\n",
        "for i in range(QdeAlumnos):\n",
        "    alumno = input(\"Nombre del alumno:\\n\")\n",
        "    while alumno in calificaciones:\n",
        "        print(\"Nombre repetido.\\n\")\n",
        "        alumno = input(\"Nombre del alumno:\\n\")\n",
        "    notas = []\n",
        "    nota = int(input(\"¿Cuál es la calificación?\\r\\nNegativa para terminar de ingresar\\r\\n\"))\n",
        "    while nota > 0:\n",
        "        notas.append(nota)\n",
        "        nota = int(input(\"¿Cuál es la calificación?\\r\\nNegativa para terminar de ingresar\\r\\n\"))\n",
        "    calificaciones[alumno] = notas.copy()\n",
        "\n",
        "print(calificaciones)\n",
        "\n",
        "for alumno, notas in calificaciones.items():\n",
        "    print(\"El promedio de %s es %f\" % (alumno,sum(notas)/len(notas)))"
      ],
      "metadata": {
        "id": "Zai6eApUTGzk"
      },
      "execution_count": null,
      "outputs": []
    },
    {
      "cell_type": "markdown",
      "source": [
        "## 4.5 Ejercicio 5 (1.2 puntos)\n",
        "Crea una tupla con los meses del año, pide números al usuario, si el número está entre 1 y la longitud máxima de la tupla, muestra el contenido de esa posición sino muestra un mensaje de error. El programa termina cuando el usuario introduce un cero.\n",
        "\n"
      ],
      "metadata": {
        "id": "BXyaY22ATI-M"
      }
    },
    {
      "cell_type": "code",
      "source": [
        "#Tu código aqui\n",
        "\n",
        "meses = (\"Enero\", \"Feberero\", \"Marzo\", \"Abril\", \"Mayo\", \"Junio\", \"Julio\", \"Agosto\", \"Septiembre\", \"Octubre\", \"Noviembre\", \"Diciembre\")\n",
        "\n",
        "mostrar = True\n",
        "while mostrar:\n",
        "     \n",
        "    numero = int(input(\"Digita un numero: \"))\n",
        " \n",
        "    if(numero==0):\n",
        "        mostrar = False\n",
        "    elif (numero>=1 and numero<=len(meses)):\n",
        "      print(meses[numero-1])\n",
        "    else:\n",
        "      print(\"Inserta un numero entre 1 y \",len(meses))\n"
      ],
      "metadata": {
        "id": "c4mkDJNtTLLz",
        "outputId": "b8f6b5db-6d0b-40ce-ca19-c1e4d0be70d5",
        "colab": {
          "base_uri": "https://localhost:8080/"
        }
      },
      "execution_count": 54,
      "outputs": [
        {
          "name": "stdout",
          "output_type": "stream",
          "text": [
            "Digita un numero: 9\n",
            "Septiembre\n",
            "Digita un numero: 0\n"
          ]
        }
      ]
    }
  ]
}